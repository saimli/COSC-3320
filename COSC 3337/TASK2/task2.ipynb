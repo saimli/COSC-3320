{
 "cells": [
  {
   "cell_type": "code",
   "execution_count": 2,
   "id": "1193c540",
   "metadata": {},
   "outputs": [],
   "source": [
    "def plot_colors(student_id):\n",
    "    color1 = \"#\"+student_id[1:]\n",
    "    color2 = \"#\"+str(hex( int(\"FFFFFF\" ,16) - int(student_id[1:],16)))[2:] \n",
    "    return color1 , color2"
   ]
  },
  {
   "cell_type": "code",
   "execution_count": 14,
   "id": "b4fdbb5b",
   "metadata": {},
   "outputs": [],
   "source": [
    "psid = \"2100224\"\n",
    "color1,color2 = plot_colors(psid)\n",
    " "
   ]
  },
  {
   "cell_type": "code",
   "execution_count": 15,
   "id": "8167ab93",
   "metadata": {},
   "outputs": [],
   "source": [
    "import pandas as pd"
   ]
  },
  {
   "cell_type": "code",
   "execution_count": 151,
   "id": "cf3b69b2",
   "metadata": {
    "collapsed": true
   },
   "outputs": [
    {
     "data": {
      "text/html": [
       "<div>\n",
       "<style scoped>\n",
       "    .dataframe tbody tr th:only-of-type {\n",
       "        vertical-align: middle;\n",
       "    }\n",
       "\n",
       "    .dataframe tbody tr th {\n",
       "        vertical-align: top;\n",
       "    }\n",
       "\n",
       "    .dataframe thead th {\n",
       "        text-align: right;\n",
       "    }\n",
       "</style>\n",
       "<table border=\"1\" class=\"dataframe\">\n",
       "  <thead>\n",
       "    <tr style=\"text-align: right;\">\n",
       "      <th></th>\n",
       "      <th>Feature 1</th>\n",
       "      <th>Feature 2</th>\n",
       "      <th>Feature 3</th>\n",
       "      <th>Feature 4</th>\n",
       "      <th>Label</th>\n",
       "    </tr>\n",
       "  </thead>\n",
       "  <tbody>\n",
       "    <tr>\n",
       "      <th>0</th>\n",
       "      <td>-8.612445</td>\n",
       "      <td>-9.729022</td>\n",
       "      <td>-30.050765</td>\n",
       "      <td>90.482367</td>\n",
       "      <td>1</td>\n",
       "    </tr>\n",
       "    <tr>\n",
       "      <th>1</th>\n",
       "      <td>0.902390</td>\n",
       "      <td>-0.316833</td>\n",
       "      <td>0.699654</td>\n",
       "      <td>0.337164</td>\n",
       "      <td>0</td>\n",
       "    </tr>\n",
       "    <tr>\n",
       "      <th>2</th>\n",
       "      <td>-25.307502</td>\n",
       "      <td>-20.669486</td>\n",
       "      <td>-62.605756</td>\n",
       "      <td>250.631483</td>\n",
       "      <td>1</td>\n",
       "    </tr>\n",
       "    <tr>\n",
       "      <th>3</th>\n",
       "      <td>-21.844937</td>\n",
       "      <td>-4.288478</td>\n",
       "      <td>-14.848927</td>\n",
       "      <td>235.177479</td>\n",
       "      <td>0</td>\n",
       "    </tr>\n",
       "    <tr>\n",
       "      <th>4</th>\n",
       "      <td>26.185707</td>\n",
       "      <td>-24.207999</td>\n",
       "      <td>-76.018547</td>\n",
       "      <td>-267.134888</td>\n",
       "      <td>1</td>\n",
       "    </tr>\n",
       "    <tr>\n",
       "      <th>...</th>\n",
       "      <td>...</td>\n",
       "      <td>...</td>\n",
       "      <td>...</td>\n",
       "      <td>...</td>\n",
       "      <td>...</td>\n",
       "    </tr>\n",
       "    <tr>\n",
       "      <th>8395</th>\n",
       "      <td>0.321145</td>\n",
       "      <td>-2.728815</td>\n",
       "      <td>-8.271032</td>\n",
       "      <td>-7.367157</td>\n",
       "      <td>0</td>\n",
       "    </tr>\n",
       "    <tr>\n",
       "      <th>8396</th>\n",
       "      <td>-21.523594</td>\n",
       "      <td>-5.790952</td>\n",
       "      <td>-19.613791</td>\n",
       "      <td>230.112038</td>\n",
       "      <td>0</td>\n",
       "    </tr>\n",
       "    <tr>\n",
       "      <th>8397</th>\n",
       "      <td>-24.358283</td>\n",
       "      <td>6.796865</td>\n",
       "      <td>19.012739</td>\n",
       "      <td>234.523391</td>\n",
       "      <td>0</td>\n",
       "    </tr>\n",
       "    <tr>\n",
       "      <th>8398</th>\n",
       "      <td>17.553608</td>\n",
       "      <td>24.473744</td>\n",
       "      <td>67.689126</td>\n",
       "      <td>-167.704393</td>\n",
       "      <td>1</td>\n",
       "    </tr>\n",
       "    <tr>\n",
       "      <th>8399</th>\n",
       "      <td>-6.561204</td>\n",
       "      <td>-20.195203</td>\n",
       "      <td>-65.790356</td>\n",
       "      <td>65.981372</td>\n",
       "      <td>0</td>\n",
       "    </tr>\n",
       "  </tbody>\n",
       "</table>\n",
       "<p>8400 rows × 5 columns</p>\n",
       "</div>"
      ],
      "text/plain": [
       "      Feature 1  Feature 2  Feature 3   Feature 4  Label\n",
       "0     -8.612445  -9.729022 -30.050765   90.482367      1\n",
       "1      0.902390  -0.316833   0.699654    0.337164      0\n",
       "2    -25.307502 -20.669486 -62.605756  250.631483      1\n",
       "3    -21.844937  -4.288478 -14.848927  235.177479      0\n",
       "4     26.185707 -24.207999 -76.018547 -267.134888      1\n",
       "...         ...        ...        ...         ...    ...\n",
       "8395   0.321145  -2.728815  -8.271032   -7.367157      0\n",
       "8396 -21.523594  -5.790952 -19.613791  230.112038      0\n",
       "8397 -24.358283   6.796865  19.012739  234.523391      0\n",
       "8398  17.553608  24.473744  67.689126 -167.704393      1\n",
       "8399  -6.561204 -20.195203 -65.790356   65.981372      0\n",
       "\n",
       "[8400 rows x 5 columns]"
      ]
     },
     "execution_count": 151,
     "metadata": {},
     "output_type": "execute_result"
    }
   ],
   "source": [
    "data = pd.read_excel(\"data.xlsx\")\n",
    "data"
   ]
  },
  {
   "cell_type": "code",
   "execution_count": 25,
   "id": "f4653315",
   "metadata": {
    "collapsed": true
   },
   "outputs": [
    {
     "data": {
      "text/html": [
       "<div>\n",
       "<style scoped>\n",
       "    .dataframe tbody tr th:only-of-type {\n",
       "        vertical-align: middle;\n",
       "    }\n",
       "\n",
       "    .dataframe tbody tr th {\n",
       "        vertical-align: top;\n",
       "    }\n",
       "\n",
       "    .dataframe thead th {\n",
       "        text-align: right;\n",
       "    }\n",
       "</style>\n",
       "<table border=\"1\" class=\"dataframe\">\n",
       "  <thead>\n",
       "    <tr style=\"text-align: right;\">\n",
       "      <th></th>\n",
       "      <th>Feature 1</th>\n",
       "      <th>Feature 2</th>\n",
       "      <th>Feature 3</th>\n",
       "      <th>Feature 4</th>\n",
       "      <th>Label</th>\n",
       "    </tr>\n",
       "  </thead>\n",
       "  <tbody>\n",
       "    <tr>\n",
       "      <th>0</th>\n",
       "      <td>-8.612445</td>\n",
       "      <td>-9.729022</td>\n",
       "      <td>-30.050765</td>\n",
       "      <td>90.482367</td>\n",
       "      <td>1</td>\n",
       "    </tr>\n",
       "    <tr>\n",
       "      <th>2</th>\n",
       "      <td>-25.307502</td>\n",
       "      <td>-20.669486</td>\n",
       "      <td>-62.605756</td>\n",
       "      <td>250.631483</td>\n",
       "      <td>1</td>\n",
       "    </tr>\n",
       "    <tr>\n",
       "      <th>4</th>\n",
       "      <td>26.185707</td>\n",
       "      <td>-24.207999</td>\n",
       "      <td>-76.018547</td>\n",
       "      <td>-267.134888</td>\n",
       "      <td>1</td>\n",
       "    </tr>\n",
       "    <tr>\n",
       "      <th>7</th>\n",
       "      <td>18.826052</td>\n",
       "      <td>-3.268000</td>\n",
       "      <td>-11.162893</td>\n",
       "      <td>-165.038169</td>\n",
       "      <td>1</td>\n",
       "    </tr>\n",
       "    <tr>\n",
       "      <th>9</th>\n",
       "      <td>2.474554</td>\n",
       "      <td>27.845189</td>\n",
       "      <td>82.562990</td>\n",
       "      <td>-20.989719</td>\n",
       "      <td>1</td>\n",
       "    </tr>\n",
       "    <tr>\n",
       "      <th>...</th>\n",
       "      <td>...</td>\n",
       "      <td>...</td>\n",
       "      <td>...</td>\n",
       "      <td>...</td>\n",
       "      <td>...</td>\n",
       "    </tr>\n",
       "    <tr>\n",
       "      <th>8390</th>\n",
       "      <td>12.956842</td>\n",
       "      <td>-12.984984</td>\n",
       "      <td>-38.551356</td>\n",
       "      <td>-122.411677</td>\n",
       "      <td>1</td>\n",
       "    </tr>\n",
       "    <tr>\n",
       "      <th>8391</th>\n",
       "      <td>-14.328434</td>\n",
       "      <td>5.219075</td>\n",
       "      <td>13.113559</td>\n",
       "      <td>141.002923</td>\n",
       "      <td>1</td>\n",
       "    </tr>\n",
       "    <tr>\n",
       "      <th>8392</th>\n",
       "      <td>-27.131936</td>\n",
       "      <td>21.599224</td>\n",
       "      <td>63.714169</td>\n",
       "      <td>262.318544</td>\n",
       "      <td>1</td>\n",
       "    </tr>\n",
       "    <tr>\n",
       "      <th>8393</th>\n",
       "      <td>-13.953086</td>\n",
       "      <td>4.745433</td>\n",
       "      <td>13.904520</td>\n",
       "      <td>140.452241</td>\n",
       "      <td>1</td>\n",
       "    </tr>\n",
       "    <tr>\n",
       "      <th>8398</th>\n",
       "      <td>17.553608</td>\n",
       "      <td>24.473744</td>\n",
       "      <td>67.689126</td>\n",
       "      <td>-167.704393</td>\n",
       "      <td>1</td>\n",
       "    </tr>\n",
       "  </tbody>\n",
       "</table>\n",
       "<p>3400 rows × 5 columns</p>\n",
       "</div>"
      ],
      "text/plain": [
       "      Feature 1  Feature 2  Feature 3   Feature 4  Label\n",
       "0     -8.612445  -9.729022 -30.050765   90.482367      1\n",
       "2    -25.307502 -20.669486 -62.605756  250.631483      1\n",
       "4     26.185707 -24.207999 -76.018547 -267.134888      1\n",
       "7     18.826052  -3.268000 -11.162893 -165.038169      1\n",
       "9      2.474554  27.845189  82.562990  -20.989719      1\n",
       "...         ...        ...        ...         ...    ...\n",
       "8390  12.956842 -12.984984 -38.551356 -122.411677      1\n",
       "8391 -14.328434   5.219075  13.113559  141.002923      1\n",
       "8392 -27.131936  21.599224  63.714169  262.318544      1\n",
       "8393 -13.953086   4.745433  13.904520  140.452241      1\n",
       "8398  17.553608  24.473744  67.689126 -167.704393      1\n",
       "\n",
       "[3400 rows x 5 columns]"
      ]
     },
     "execution_count": 25,
     "metadata": {},
     "output_type": "execute_result"
    }
   ],
   "source": [
    "df1 = data[data['Label'] == 1]\n",
    "df1"
   ]
  },
  {
   "cell_type": "code",
   "execution_count": 30,
   "id": "024352eb",
   "metadata": {
    "collapsed": true
   },
   "outputs": [
    {
     "data": {
      "text/html": [
       "<div>\n",
       "<style scoped>\n",
       "    .dataframe tbody tr th:only-of-type {\n",
       "        vertical-align: middle;\n",
       "    }\n",
       "\n",
       "    .dataframe tbody tr th {\n",
       "        vertical-align: top;\n",
       "    }\n",
       "\n",
       "    .dataframe thead th {\n",
       "        text-align: right;\n",
       "    }\n",
       "</style>\n",
       "<table border=\"1\" class=\"dataframe\">\n",
       "  <thead>\n",
       "    <tr style=\"text-align: right;\">\n",
       "      <th></th>\n",
       "      <th>Feature 1</th>\n",
       "      <th>Feature 2</th>\n",
       "      <th>Feature 3</th>\n",
       "      <th>Feature 4</th>\n",
       "      <th>Label</th>\n",
       "    </tr>\n",
       "  </thead>\n",
       "  <tbody>\n",
       "    <tr>\n",
       "      <th>1</th>\n",
       "      <td>0.902390</td>\n",
       "      <td>-0.316833</td>\n",
       "      <td>0.699654</td>\n",
       "      <td>0.337164</td>\n",
       "      <td>0</td>\n",
       "    </tr>\n",
       "    <tr>\n",
       "      <th>3</th>\n",
       "      <td>-21.844937</td>\n",
       "      <td>-4.288478</td>\n",
       "      <td>-14.848927</td>\n",
       "      <td>235.177479</td>\n",
       "      <td>0</td>\n",
       "    </tr>\n",
       "    <tr>\n",
       "      <th>5</th>\n",
       "      <td>1.455472</td>\n",
       "      <td>1.453604</td>\n",
       "      <td>1.447083</td>\n",
       "      <td>-0.262329</td>\n",
       "      <td>0</td>\n",
       "    </tr>\n",
       "    <tr>\n",
       "      <th>6</th>\n",
       "      <td>-1.732871</td>\n",
       "      <td>-2.405579</td>\n",
       "      <td>-9.509719</td>\n",
       "      <td>30.246861</td>\n",
       "      <td>0</td>\n",
       "    </tr>\n",
       "    <tr>\n",
       "      <th>8</th>\n",
       "      <td>0.475492</td>\n",
       "      <td>-0.996478</td>\n",
       "      <td>-3.936492</td>\n",
       "      <td>-13.638168</td>\n",
       "      <td>0</td>\n",
       "    </tr>\n",
       "    <tr>\n",
       "      <th>...</th>\n",
       "      <td>...</td>\n",
       "      <td>...</td>\n",
       "      <td>...</td>\n",
       "      <td>...</td>\n",
       "      <td>...</td>\n",
       "    </tr>\n",
       "    <tr>\n",
       "      <th>8394</th>\n",
       "      <td>5.334331</td>\n",
       "      <td>5.325826</td>\n",
       "      <td>14.445657</td>\n",
       "      <td>-41.661240</td>\n",
       "      <td>0</td>\n",
       "    </tr>\n",
       "    <tr>\n",
       "      <th>8395</th>\n",
       "      <td>0.321145</td>\n",
       "      <td>-2.728815</td>\n",
       "      <td>-8.271032</td>\n",
       "      <td>-7.367157</td>\n",
       "      <td>0</td>\n",
       "    </tr>\n",
       "    <tr>\n",
       "      <th>8396</th>\n",
       "      <td>-21.523594</td>\n",
       "      <td>-5.790952</td>\n",
       "      <td>-19.613791</td>\n",
       "      <td>230.112038</td>\n",
       "      <td>0</td>\n",
       "    </tr>\n",
       "    <tr>\n",
       "      <th>8397</th>\n",
       "      <td>-24.358283</td>\n",
       "      <td>6.796865</td>\n",
       "      <td>19.012739</td>\n",
       "      <td>234.523391</td>\n",
       "      <td>0</td>\n",
       "    </tr>\n",
       "    <tr>\n",
       "      <th>8399</th>\n",
       "      <td>-6.561204</td>\n",
       "      <td>-20.195203</td>\n",
       "      <td>-65.790356</td>\n",
       "      <td>65.981372</td>\n",
       "      <td>0</td>\n",
       "    </tr>\n",
       "  </tbody>\n",
       "</table>\n",
       "<p>5000 rows × 5 columns</p>\n",
       "</div>"
      ],
      "text/plain": [
       "      Feature 1  Feature 2  Feature 3   Feature 4  Label\n",
       "1      0.902390  -0.316833   0.699654    0.337164      0\n",
       "3    -21.844937  -4.288478 -14.848927  235.177479      0\n",
       "5      1.455472   1.453604   1.447083   -0.262329      0\n",
       "6     -1.732871  -2.405579  -9.509719   30.246861      0\n",
       "8      0.475492  -0.996478  -3.936492  -13.638168      0\n",
       "...         ...        ...        ...         ...    ...\n",
       "8394   5.334331   5.325826  14.445657  -41.661240      0\n",
       "8395   0.321145  -2.728815  -8.271032   -7.367157      0\n",
       "8396 -21.523594  -5.790952 -19.613791  230.112038      0\n",
       "8397 -24.358283   6.796865  19.012739  234.523391      0\n",
       "8399  -6.561204 -20.195203 -65.790356   65.981372      0\n",
       "\n",
       "[5000 rows x 5 columns]"
      ]
     },
     "execution_count": 30,
     "metadata": {},
     "output_type": "execute_result"
    }
   ],
   "source": [
    "df0 = data[data.Label == 0]\n",
    "df0"
   ]
  },
  {
   "cell_type": "code",
   "execution_count": 51,
   "id": "84a5888d",
   "metadata": {
    "collapsed": true
   },
   "outputs": [
    {
     "data": {
      "text/html": [
       "<div>\n",
       "<style scoped>\n",
       "    .dataframe tbody tr th:only-of-type {\n",
       "        vertical-align: middle;\n",
       "    }\n",
       "\n",
       "    .dataframe tbody tr th {\n",
       "        vertical-align: top;\n",
       "    }\n",
       "\n",
       "    .dataframe thead th {\n",
       "        text-align: right;\n",
       "    }\n",
       "</style>\n",
       "<table border=\"1\" class=\"dataframe\">\n",
       "  <thead>\n",
       "    <tr style=\"text-align: right;\">\n",
       "      <th></th>\n",
       "      <th>Feature 1</th>\n",
       "      <th>Feature 2</th>\n",
       "      <th>Feature 3</th>\n",
       "      <th>Feature 4</th>\n",
       "      <th>Label</th>\n",
       "    </tr>\n",
       "  </thead>\n",
       "  <tbody>\n",
       "    <tr>\n",
       "      <th>139</th>\n",
       "      <td>5.759211</td>\n",
       "      <td>-17.351403</td>\n",
       "      <td>-51.565140</td>\n",
       "      <td>-59.068285</td>\n",
       "      <td>1</td>\n",
       "    </tr>\n",
       "    <tr>\n",
       "      <th>4615</th>\n",
       "      <td>-3.267499</td>\n",
       "      <td>16.168204</td>\n",
       "      <td>43.911803</td>\n",
       "      <td>36.200041</td>\n",
       "      <td>1</td>\n",
       "    </tr>\n",
       "    <tr>\n",
       "      <th>7812</th>\n",
       "      <td>19.178344</td>\n",
       "      <td>20.869429</td>\n",
       "      <td>63.478823</td>\n",
       "      <td>-190.718860</td>\n",
       "      <td>1</td>\n",
       "    </tr>\n",
       "    <tr>\n",
       "      <th>6204</th>\n",
       "      <td>12.255645</td>\n",
       "      <td>31.485518</td>\n",
       "      <td>97.403961</td>\n",
       "      <td>-119.346034</td>\n",
       "      <td>1</td>\n",
       "    </tr>\n",
       "    <tr>\n",
       "      <th>1187</th>\n",
       "      <td>-3.488086</td>\n",
       "      <td>-10.765745</td>\n",
       "      <td>-38.010058</td>\n",
       "      <td>42.918871</td>\n",
       "      <td>1</td>\n",
       "    </tr>\n",
       "    <tr>\n",
       "      <th>...</th>\n",
       "      <td>...</td>\n",
       "      <td>...</td>\n",
       "      <td>...</td>\n",
       "      <td>...</td>\n",
       "      <td>...</td>\n",
       "    </tr>\n",
       "    <tr>\n",
       "      <th>2829</th>\n",
       "      <td>33.449767</td>\n",
       "      <td>-13.388932</td>\n",
       "      <td>-40.403387</td>\n",
       "      <td>-333.606382</td>\n",
       "      <td>1</td>\n",
       "    </tr>\n",
       "    <tr>\n",
       "      <th>7577</th>\n",
       "      <td>17.114643</td>\n",
       "      <td>-4.723343</td>\n",
       "      <td>-15.325743</td>\n",
       "      <td>-162.229824</td>\n",
       "      <td>1</td>\n",
       "    </tr>\n",
       "    <tr>\n",
       "      <th>3897</th>\n",
       "      <td>9.611646</td>\n",
       "      <td>27.422218</td>\n",
       "      <td>79.652151</td>\n",
       "      <td>-85.978511</td>\n",
       "      <td>1</td>\n",
       "    </tr>\n",
       "    <tr>\n",
       "      <th>217</th>\n",
       "      <td>15.258992</td>\n",
       "      <td>0.608316</td>\n",
       "      <td>1.471736</td>\n",
       "      <td>-166.348678</td>\n",
       "      <td>1</td>\n",
       "    </tr>\n",
       "    <tr>\n",
       "      <th>445</th>\n",
       "      <td>14.013296</td>\n",
       "      <td>-8.565612</td>\n",
       "      <td>-25.702120</td>\n",
       "      <td>-152.007657</td>\n",
       "      <td>1</td>\n",
       "    </tr>\n",
       "  </tbody>\n",
       "</table>\n",
       "<p>401 rows × 5 columns</p>\n",
       "</div>"
      ],
      "text/plain": [
       "      Feature 1  Feature 2  Feature 3   Feature 4  Label\n",
       "139    5.759211 -17.351403 -51.565140  -59.068285      1\n",
       "4615  -3.267499  16.168204  43.911803   36.200041      1\n",
       "7812  19.178344  20.869429  63.478823 -190.718860      1\n",
       "6204  12.255645  31.485518  97.403961 -119.346034      1\n",
       "1187  -3.488086 -10.765745 -38.010058   42.918871      1\n",
       "...         ...        ...        ...         ...    ...\n",
       "2829  33.449767 -13.388932 -40.403387 -333.606382      1\n",
       "7577  17.114643  -4.723343 -15.325743 -162.229824      1\n",
       "3897   9.611646  27.422218  79.652151  -85.978511      1\n",
       "217   15.258992   0.608316   1.471736 -166.348678      1\n",
       "445   14.013296  -8.565612 -25.702120 -152.007657      1\n",
       "\n",
       "[401 rows x 5 columns]"
      ]
     },
     "execution_count": 51,
     "metadata": {},
     "output_type": "execute_result"
    }
   ],
   "source": [
    "q = 1000\n",
    "RegSample = pd.DataFrame.sample(data,q)\n",
    "df0r = RegSample[RegSample.Label == 0]\n",
    "df0r\n",
    "df1r = RegSample[RegSample.Label == 1]\n",
    "df1r\n"
   ]
  },
  {
   "cell_type": "code",
   "execution_count": 160,
   "id": "a219c5c1",
   "metadata": {},
   "outputs": [
    {
     "data": {
      "text/plain": [
       "0    59.52381\n",
       "1    40.47619\n",
       "Name: Label, dtype: float64"
      ]
     },
     "execution_count": 160,
     "metadata": {},
     "output_type": "execute_result"
    }
   ],
   "source": [
    "(data['Label'].value_counts()) / len(data) * 100\n"
   ]
  },
  {
   "cell_type": "code",
   "execution_count": 179,
   "id": "227f1551",
   "metadata": {
    "scrolled": true
   },
   "outputs": [
    {
     "data": {
      "text/plain": [
       "0    59.5\n",
       "1    40.5\n",
       "Name: Label, dtype: float64"
      ]
     },
     "execution_count": 179,
     "metadata": {},
     "output_type": "execute_result"
    }
   ],
   "source": [
    "q = 1000\n",
    "dataset3 = data.groupby('Label', group_keys=False).apply(lambda x: x.sample(frac =.11904761904))\n",
    "(dataset3['Label'].value_counts()) / len(dataset3) * 100"
   ]
  },
  {
   "cell_type": "code",
   "execution_count": 181,
   "id": "4a241752",
   "metadata": {},
   "outputs": [
    {
     "data": {
      "text/html": [
       "<div>\n",
       "<style scoped>\n",
       "    .dataframe tbody tr th:only-of-type {\n",
       "        vertical-align: middle;\n",
       "    }\n",
       "\n",
       "    .dataframe tbody tr th {\n",
       "        vertical-align: top;\n",
       "    }\n",
       "\n",
       "    .dataframe thead th {\n",
       "        text-align: right;\n",
       "    }\n",
       "</style>\n",
       "<table border=\"1\" class=\"dataframe\">\n",
       "  <thead>\n",
       "    <tr style=\"text-align: right;\">\n",
       "      <th></th>\n",
       "      <th>Feature 1</th>\n",
       "      <th>Feature 2</th>\n",
       "      <th>Feature 3</th>\n",
       "      <th>Feature 4</th>\n",
       "      <th>Label</th>\n",
       "    </tr>\n",
       "  </thead>\n",
       "  <tbody>\n",
       "    <tr>\n",
       "      <th>Feature 1</th>\n",
       "      <td>206.425288</td>\n",
       "      <td>-13.484985</td>\n",
       "      <td>-41.010883</td>\n",
       "      <td>-2062.047611</td>\n",
       "      <td>2.636726</td>\n",
       "    </tr>\n",
       "    <tr>\n",
       "      <th>Feature 2</th>\n",
       "      <td>-13.484985</td>\n",
       "      <td>231.895806</td>\n",
       "      <td>692.848217</td>\n",
       "      <td>133.931049</td>\n",
       "      <td>-0.393175</td>\n",
       "    </tr>\n",
       "    <tr>\n",
       "      <th>Feature 3</th>\n",
       "      <td>-41.010883</td>\n",
       "      <td>692.848217</td>\n",
       "      <td>2076.403457</td>\n",
       "      <td>407.806389</td>\n",
       "      <td>-1.149565</td>\n",
       "    </tr>\n",
       "    <tr>\n",
       "      <th>Feature 4</th>\n",
       "      <td>-2062.047611</td>\n",
       "      <td>133.931049</td>\n",
       "      <td>407.806389</td>\n",
       "      <td>20664.713849</td>\n",
       "      <td>-26.410580</td>\n",
       "    </tr>\n",
       "    <tr>\n",
       "      <th>Label</th>\n",
       "      <td>2.636726</td>\n",
       "      <td>-0.393175</td>\n",
       "      <td>-1.149565</td>\n",
       "      <td>-26.410580</td>\n",
       "      <td>0.241216</td>\n",
       "    </tr>\n",
       "  </tbody>\n",
       "</table>\n",
       "</div>"
      ],
      "text/plain": [
       "             Feature 1   Feature 2    Feature 3     Feature 4      Label\n",
       "Feature 1   206.425288  -13.484985   -41.010883  -2062.047611   2.636726\n",
       "Feature 2   -13.484985  231.895806   692.848217    133.931049  -0.393175\n",
       "Feature 3   -41.010883  692.848217  2076.403457    407.806389  -1.149565\n",
       "Feature 4 -2062.047611  133.931049   407.806389  20664.713849 -26.410580\n",
       "Label         2.636726   -0.393175    -1.149565    -26.410580   0.241216"
      ]
     },
     "execution_count": 181,
     "metadata": {},
     "output_type": "execute_result"
    }
   ],
   "source": [
    "dataset3.cov()"
   ]
  },
  {
   "cell_type": "code",
   "execution_count": 203,
   "id": "0d546318",
   "metadata": {
    "scrolled": true
   },
   "outputs": [
    {
     "ename": "ModuleNotFoundError",
     "evalue": "No module named 'matplotlib'",
     "output_type": "error",
     "traceback": [
      "\u001b[0;31m---------------------------------------------------------------------------\u001b[0m",
      "\u001b[0;31mModuleNotFoundError\u001b[0m                       Traceback (most recent call last)",
      "Cell \u001b[0;32mIn [203], line 1\u001b[0m\n\u001b[0;32m----> 1\u001b[0m \u001b[38;5;28;01mimport\u001b[39;00m \u001b[38;5;21;01mmatplotlib\u001b[39;00m\n\u001b[1;32m      2\u001b[0m dataset4 \u001b[38;5;241m=\u001b[39m dataset3[[\u001b[38;5;124m'\u001b[39m\u001b[38;5;124mFeature 1\u001b[39m\u001b[38;5;124m'\u001b[39m,\u001b[38;5;124m'\u001b[39m\u001b[38;5;124mFeature 2\u001b[39m\u001b[38;5;124m'\u001b[39m]]\n\u001b[1;32m      3\u001b[0m dataset4\n",
      "\u001b[0;31mModuleNotFoundError\u001b[0m: No module named 'matplotlib'"
     ]
    }
   ],
   "source": [
    "dataset4 = dataset3[['Feature 1','Feature 2']]\n",
    "dataset4"
   ]
  },
  {
   "cell_type": "code",
   "execution_count": 259,
   "id": "77bf111e",
   "metadata": {},
   "outputs": [
    {
     "data": {
      "text/plain": [
       "<matplotlib.collections.PathCollection at 0x12b7f3e80>"
      ]
     },
     "execution_count": 259,
     "metadata": {},
     "output_type": "execute_result"
    },
    {
     "data": {
      "image/png": "[encoded data removed]",
      "text/plain": [
       "<Figure size 640x480 with 1 Axes>"
      ]
     },
     "metadata": {},
     "output_type": "display_data"
    }
   ],
   "source": [
    "#dataset4.plot.scatter(x='Feature 1',y='Feature 2', c=['r','g'])\n",
    "x= dataset4['Feature 1']\n",
    "y = dataset4['Feature 2']\n",
    "plt.scatter(x=x,y=y, c=)"
   ]
  },
  {
   "cell_type": "code",
   "execution_count": 235,
   "id": "419d082d",
   "metadata": {},
   "outputs": [],
   "source": [
    "import matplotlib.pyplot as plt"
   ]
  },
  {
   "cell_type": "code",
   "execution_count": 260,
   "id": "6711e904",
   "metadata": {},
   "outputs": [
    {
     "data": {
      "text/plain": [
       "array([[<AxesSubplot: title={'center': 'Feature 1'}>,\n",
       "        <AxesSubplot: title={'center': 'Feature 2'}>]], dtype=object)"
      ]
     },
     "execution_count": 260,
     "metadata": {},
     "output_type": "execute_result"
    },
    {
     "data": {
      "image/png": "[encoded data removed]",
      "text/plain": [
       "<Figure size 640x480 with 2 Axes>"
      ]
     },
     "metadata": {},
     "output_type": "display_data"
    }
   ],
   "source": [
    "dataset4.hist()"
   ]
  },
  {
   "cell_type": "code",
   "execution_count": 275,
   "id": "31ccad13",
   "metadata": {},
   "outputs": [
    {
     "data": {
      "text/plain": [
       "array([[<AxesSubplot: title={'center': 'Feature 1'}>,\n",
       "        <AxesSubplot: title={'center': 'Feature 2'}>],\n",
       "       [<AxesSubplot: title={'center': 'Label'}>, <AxesSubplot: >]],\n",
       "      dtype=object)"
      ]
     },
     "execution_count": 275,
     "metadata": {},
     "output_type": "execute_result"
    },
    {
     "data": {
      "image/png": "[encoded data removed]",
      "text/plain": [
       "<Figure size 640x480 with 4 Axes>"
      ]
     },
     "metadata": {},
     "output_type": "display_data"
    }
   ],
   "source": [
    "dataset4s = dataset3[['Feature 1','Feature 2', 'Label']]\n",
    "d40= dataset4s[dataset4s.Label == 0]\n",
    "d41= dataset4s[dataset4s.Label == 1]\n",
    "d41.hist()\n",
    "d40.hist()\n",
    "#dataset4.hist()"
   ]
  },
  {
   "cell_type": "code",
   "execution_count": null,
   "id": "b6690aaa",
   "metadata": {},
   "outputs": [],
   "source": []
  }
 ],
 "metadata": {
  "kernelspec": {
   "display_name": "Python 3 (ipykernel)",
   "language": "python",
   "name": "python3"
  },
  "language_info": {
   "codemirror_mode": {
    "name": "ipython",
    "version": 3
   },
   "file_extension": ".py",
   "mimetype": "text/x-python",
   "name": "python",
   "nbconvert_exporter": "python",
   "pygments_lexer": "ipython3",
   "version": "3.10.7"
  }
 },
 "nbformat": 4,
 "nbformat_minor": 5
}
